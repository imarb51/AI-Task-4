{
 "cells": [
  {
   "cell_type": "markdown",
   "metadata": {},
   "source": [
    "# FIBONACCI SERIES:"
   ]
  },
  {
   "cell_type": "code",
   "execution_count": 3,
   "metadata": {},
   "outputs": [
    {
     "name": "stdout",
     "output_type": "stream",
     "text": [
      "Enter the number for Fibonacci: 9\n",
      "34\n"
     ]
    }
   ],
   "source": [
    "def Fibonacci(n):\n",
    "   \n",
    "    # Check if input is 0 then it will\n",
    "    # print incorrect input\n",
    "    if n < 0:\n",
    "        print(\"Incorrect input\")\n",
    " \n",
    "    # Check if n is 0\n",
    "    # then it will return 0\n",
    "    elif n == 0:\n",
    "        return 0\n",
    " \n",
    "    # Check if n is 1,2\n",
    "    # it will return 1\n",
    "    elif n == 1 or n == 2:\n",
    "        return 1\n",
    " \n",
    "    else:\n",
    "        return Fibonacci(n-1) + Fibonacci(n-2)\n",
    " \n",
    "N = int(input(\"Enter the number for Fibonacci: \"))\n",
    "print(Fibonacci(N))"
   ]
  },
  {
   "cell_type": "code",
   "execution_count": null,
   "metadata": {},
   "outputs": [],
   "source": []
  }
 ],
 "metadata": {
  "kernelspec": {
   "display_name": "Python 3",
   "language": "python",
   "name": "python3"
  },
  "language_info": {
   "codemirror_mode": {
    "name": "ipython",
    "version": 3
   },
   "file_extension": ".py",
   "mimetype": "text/x-python",
   "name": "python",
   "nbconvert_exporter": "python",
   "pygments_lexer": "ipython3",
   "version": "3.8.3"
  }
 },
 "nbformat": 4,
 "nbformat_minor": 4
}
